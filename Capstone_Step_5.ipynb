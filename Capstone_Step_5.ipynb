{
  "cells": [
    {
      "cell_type": "markdown",
      "metadata": {
        "id": "view-in-github",
        "colab_type": "text"
      },
      "source": [
        "<a href=\"https://colab.research.google.com/github/bdh777psu/UCSD-MLE-Bootcamp-Capstone/blob/main/Capstone_Step_5.ipynb\" target=\"_parent\"><img src=\"https://colab.research.google.com/assets/colab-badge.svg\" alt=\"Open In Colab\"/></a>"
      ]
    },
    {
      "cell_type": "markdown",
      "metadata": {
        "id": "tFgzVJjerECn"
      },
      "source": [
        "'Mental Health in the Tech Industry' is a complex and increasingly important issue as it encompasses many challenges with potentially severe impacts to one's well being: Fast-paced environments, high pressure, poor work-life balance, imposter syndrome, and lack of diversity can all play a significant role towards employee turnover, developing mental health issues, and even burnout.\n",
        "\n",
        "Before starting to write any code and building the first model prototype for the Capstone project, what follows is an attempt to wrangle and clean published research data on the topic of 'Mental Health in the Tech Industry': The goal is to join the results of 'Open Sourcing Mental Health''s (OSMH) surveys on the topic into a single .csv file, containing data from years 2017-2023.\n",
        "\n",
        "\n",
        "Step 1: Find out if the same (number of) questions were asked throughout 2017-2023"
      ]
    },
    {
      "cell_type": "code",
      "execution_count": 412,
      "metadata": {
        "id": "LY4nb9ltjYYz"
      },
      "outputs": [],
      "source": [
        "import pandas as pd"
      ]
    },
    {
      "cell_type": "code",
      "execution_count": 413,
      "metadata": {
        "id": "TNsaZA_S9H3n"
      },
      "outputs": [],
      "source": [
        "base_path = '/content/drive/MyDrive/UCSD-ML/Capstone/raw_data/'"
      ]
    },
    {
      "cell_type": "code",
      "execution_count": 414,
      "metadata": {
        "colab": {
          "base_uri": "https://localhost:8080/"
        },
        "id": "sJX7-95yjimL",
        "outputId": "2a8f12b1-4873-48b1-deb5-b3ba57776c18"
      },
      "outputs": [
        {
          "output_type": "execute_result",
          "data": {
            "text/plain": [
              "(756, 123)"
            ]
          },
          "metadata": {},
          "execution_count": 414
        }
      ],
      "source": [
        "df_2017 = pd.read_csv(base_path + 'responses_2017.csv')\n",
        "df_2017.shape"
      ]
    },
    {
      "cell_type": "code",
      "execution_count": 415,
      "metadata": {
        "colab": {
          "base_uri": "https://localhost:8080/"
        },
        "id": "fULaY1CJle9T",
        "outputId": "08247ce6-af01-4810-d5a8-c0814edf4137"
      },
      "outputs": [
        {
          "output_type": "execute_result",
          "data": {
            "text/plain": [
              "(417, 123)"
            ]
          },
          "metadata": {},
          "execution_count": 415
        }
      ],
      "source": [
        "df_2018 = pd.read_csv(base_path + 'responses_2018.csv')\n",
        "df_2018.shape"
      ]
    },
    {
      "cell_type": "code",
      "execution_count": 416,
      "metadata": {
        "colab": {
          "base_uri": "https://localhost:8080/"
        },
        "id": "fdDPX935nk-3",
        "outputId": "bc924588-eac6-4f60-f49d-5f2fe7aa90c3"
      },
      "outputs": [
        {
          "output_type": "execute_result",
          "data": {
            "text/plain": [
              "(352, 82)"
            ]
          },
          "metadata": {},
          "execution_count": 416
        }
      ],
      "source": [
        "df_2019 = pd.read_csv(base_path + 'responses_2019.csv')\n",
        "df_2019.shape"
      ]
    },
    {
      "cell_type": "code",
      "execution_count": 417,
      "metadata": {
        "colab": {
          "base_uri": "https://localhost:8080/"
        },
        "id": "Y9vsDL2YnlX3",
        "outputId": "10751395-16c4-4e3b-a498-e3fb47a2bbbd"
      },
      "outputs": [
        {
          "output_type": "execute_result",
          "data": {
            "text/plain": [
              "(180, 120)"
            ]
          },
          "metadata": {},
          "execution_count": 417
        }
      ],
      "source": [
        "df_2020 = pd.read_csv(base_path + 'responses_2020.csv')\n",
        "df_2020.shape"
      ]
    },
    {
      "cell_type": "code",
      "execution_count": 418,
      "metadata": {
        "colab": {
          "base_uri": "https://localhost:8080/"
        },
        "id": "rxZMQucZnlj2",
        "outputId": "7c3dae7b-16a9-4a86-d076-2a5d69ac9363"
      },
      "outputs": [
        {
          "output_type": "execute_result",
          "data": {
            "text/plain": [
              "(131, 124)"
            ]
          },
          "metadata": {},
          "execution_count": 418
        }
      ],
      "source": [
        "df_2021 = pd.read_csv(base_path + 'responses_2021.csv')\n",
        "df_2021.shape"
      ]
    },
    {
      "cell_type": "code",
      "execution_count": 419,
      "metadata": {
        "colab": {
          "base_uri": "https://localhost:8080/"
        },
        "id": "V9BWlDLAnltx",
        "outputId": "2a8e6a18-5ba7-4713-b7ba-15577275053d"
      },
      "outputs": [
        {
          "output_type": "execute_result",
          "data": {
            "text/plain": [
              "(164, 126)"
            ]
          },
          "metadata": {},
          "execution_count": 419
        }
      ],
      "source": [
        "df_2022 = pd.read_csv(base_path + 'responses_2022.csv')\n",
        "df_2022.shape"
      ]
    },
    {
      "cell_type": "code",
      "execution_count": 420,
      "metadata": {
        "colab": {
          "base_uri": "https://localhost:8080/"
        },
        "id": "v68VbtPdv4fI",
        "outputId": "35656842-0e03-4e5e-ca55-49f8f9773705"
      },
      "outputs": [
        {
          "output_type": "execute_result",
          "data": {
            "text/plain": [
              "(6, 126)"
            ]
          },
          "metadata": {},
          "execution_count": 420
        }
      ],
      "source": [
        "df_2023 = pd.read_csv(base_path + 'responses_2023.csv')\n",
        "df_2023.shape"
      ]
    },
    {
      "cell_type": "markdown",
      "metadata": {
        "id": "lR6TYchh96CS"
      },
      "source": [
        "Findings: There was a significant change to the (number of) survey questions asked in the year 2019. Although, that year's responses could be dropped without too much impact to the final .csv data file, it contains 352 responses that can still be utilized with some data cleaning.\n",
        "\n",
        "Step 2: Concatenating the results from survey years where the number of questions asked were relatively the same, starting with 2017-2018"
      ]
    },
    {
      "cell_type": "code",
      "execution_count": 421,
      "metadata": {
        "colab": {
          "base_uri": "https://localhost:8080/"
        },
        "id": "BXihKU5Vxgml",
        "outputId": "92a4df61-9c9b-4937-f8f7-6220462620d6"
      },
      "outputs": [
        {
          "output_type": "execute_result",
          "data": {
            "text/plain": [
              "False"
            ]
          },
          "metadata": {},
          "execution_count": 421
        }
      ],
      "source": [
        "import os\n",
        "\n",
        "file_names = [base_path + 'responses_2017.csv', base_path + 'responses_2018.csv']\n",
        "abs_paths = [os.path.join(file_name) for file_name in file_names]\n",
        "\n",
        "cols = [pd.read_csv(abs_path, nrows=0).columns for abs_path in abs_paths]\n",
        "\n",
        "cols_identical = [all(cols[0] == colx) for colx in cols[1:]]\n",
        "all(cols_identical)\n"
      ]
    },
    {
      "cell_type": "markdown",
      "metadata": {
        "id": "bWwHgq1g-wgs"
      },
      "source": [
        "Findings: Roughly the same number of questions were asked in 2017-2018, however there are differences in the column headers, which need normalization before proceeding with concatenating both.\n",
        "\n",
        "Step 3: Leave text-only data in the column headers, that comprise the actual questions that were asked in the respective surveys."
      ]
    },
    {
      "cell_type": "code",
      "execution_count": 422,
      "metadata": {
        "id": "yc7J82wB6shH"
      },
      "outputs": [],
      "source": [
        "dirty_columns = {'<strong>Are you self-employed?</strong>': 'Are you self-employed?', '<strong>If you have been diagnosed or treated for a mental health disorder, do you ever reveal this to clients or business contacts?</strong>': 'If you have been diagnosed or treated for a mental health disorder, do you ever reveal this to clients or business contacts?', '<strong>If you have been diagnosed or treated for a mental health disorder, do you ever reveal this to coworkers or employees?</strong>': 'If you have been diagnosed or treated for a mental health disorder, do you ever reveal this to coworkers or employees?', '<strong>Do you have previous employers?</strong>': 'Do you have previous employers?', '<strong>Have your previous employers provided mental health benefits?</strong>': 'Have your previous employers provided mental health benefits?', '<strong>Were you aware of the options for mental health care provided by your previous employers?</strong>': 'Were you aware of the options for mental health care provided by your previous employers?', '<strong>Would you have been willing to discuss your mental health with your coworkers at previous employers?</strong>': 'Would you have been willing to discuss your mental health with your coworkers at previous employers?', 'If you have a mental health disorder, how often do you feel that it interferes with your work <strong>when being treated effectively?</strong>': 'If you have a mental health disorder, how often do you feel that it interferes with your work when being treated effectively?', '<strong>Have you observed or experienced an unsupportive or badly handled response to a mental health issue in your current or previous workplace?</strong>': 'Have you observed or experienced an unsupportive or badly handled response to a mental health issue in your current or previous workplace?', '<strong>Have you observed or experienced supportive or well handled response to a mental health issue in your current or previous workplace?</strong>': 'Have you observed or experienced supportive or well handled response to a mental health issue in your current or previous workplace?', 'What country do you <strong>live</strong> in?': 'What country do you live in?', 'What US state or territory do you <strong>live</strong> in?': 'What US state or territory do you live in?', 'What country do you <strong>work</strong> in?': 'What country do you work in?', 'What US state or territory do you <strong>work</strong> in?': 'What US state or territory do you work in?', 'Does your employer provide mental health benefits\\xa0as part of healthcare coverage?': 'Does your employer provide mental health benefits as part of healthcare coverage?', 'If they knew you suffered from a mental health disorder,\\xa0how do you think that team members/co-workers would react?': 'If they knew you suffered from a mental health disorder, how do you think that team members/co-workers would react?', 'If you have a mental health disorder, how often do you feel that it interferes with your work <strong>when <em>NOT</em> being treated effectively (i.e., when you are experiencing symptoms)?</strong>': 'If you have a mental health disorder, how often do you feel that it interferes with your work when NOT being treated effectively (i.e., when you are experiencing symptoms)?', 'If you have a mental health disorder, how often do you feel that it interferes with your work <strong>when</strong> <em><strong>NOT</strong></em><strong> being treated effectively (i.e., when you are experiencing symptoms)?</strong>': 'If you have a mental health disorder, how often do you feel that it interferes with your work when NOT being treated effectively (i.e., when you are experiencing symptoms)?', 'Would you be willing to talk to one of us more extensively about your experiences with mental health issues in the tech industry? (Note that all interview responses would be used <em>anonymously</em>\\xa0and only with your permission.)': 'Would you be willing to talk to one of us more extensively about your experiences with mental health issues in the tech industry? (Note that all interview responses would be used anonymously and only with your permission.)'}\n",
        "\n",
        "df_2017_clean = df_2017.rename(columns=dirty_columns)"
      ]
    },
    {
      "cell_type": "code",
      "execution_count": 423,
      "metadata": {
        "id": "AeBHueXuCbpr"
      },
      "outputs": [],
      "source": [
        "df_2018_clean = df_2018.rename(columns=dirty_columns)"
      ]
    },
    {
      "cell_type": "code",
      "execution_count": 424,
      "metadata": {
        "colab": {
          "base_uri": "https://localhost:8080/"
        },
        "id": "b_SW7CT_DvLP",
        "outputId": "35b13318-ac03-4e3f-dc00-4f19584ca25c"
      },
      "outputs": [
        {
          "output_type": "execute_result",
          "data": {
            "text/plain": [
              "{'Would you be willing to talk to one of us more extensively about your experiences with mental health issues in the tech industry? (Note that all interview responses would be used anonymously and only with your permission.)'}"
            ]
          },
          "metadata": {},
          "execution_count": 424
        }
      ],
      "source": [
        "set(df_2017_clean.columns) - set(df_2018_clean.columns)"
      ]
    },
    {
      "cell_type": "markdown",
      "metadata": {
        "id": "b1j-xRBD_wyi"
      },
      "source": [
        "Findings: An empty set in the line above, indicates that there are no differences in the column headers from one year to the next (2017-2018)\n",
        "\n",
        "Step 4: Concatenate the cleansed 2017 and 2018 survey results into a single dataframe, resulting in 1173 responses and 123 questions, so far."
      ]
    },
    {
      "cell_type": "code",
      "execution_count": 425,
      "metadata": {
        "colab": {
          "base_uri": "https://localhost:8080/"
        },
        "id": "Iclicwm6J2RF",
        "outputId": "b275848e-c81a-438a-84c3-db441abe9251"
      },
      "outputs": [
        {
          "output_type": "execute_result",
          "data": {
            "text/plain": [
              "(1173, 124)"
            ]
          },
          "metadata": {},
          "execution_count": 425
        }
      ],
      "source": [
        "data_frames = [df_2017_clean, df_2018_clean]\n",
        "\n",
        "df_2017_2018 = pd.concat(data_frames)\n",
        "df_2017_2018.shape"
      ]
    },
    {
      "cell_type": "markdown",
      "source": [
        "Step 5: Clean 2019 raw results and concatenate with 2017-2018 results.\n",
        "\n",
        "(Extraneous open-ended questions that can be disregarded from surveys posterior to 2017-18 have been dropped from subsequent years, limiting dataset to 123 columns/questions at max.)"
      ],
      "metadata": {
        "id": "tKz6ATwJ92F4"
      }
    },
    {
      "cell_type": "code",
      "execution_count": 426,
      "metadata": {
        "id": "LlEUxNaHqIq7"
      },
      "outputs": [],
      "source": [
        "dirty_columns = {'*Are you self-employed?*': 'Are you self-employed?', '*Do you have previous employers?*': 'Do you have previous employers?', '*If possibly, what disorder(s) do you believe you have?*': 'If possibly, what disorder(s) do you believe you have?', '*If so, what disorder(s) were you diagnosed with?*': 'If so, what disorder(s) were you diagnosed with?', 'Do you *currently* have a mental health disorder?':  'Do you currently have a mental health disorder?', 'Have you ever been *diagnosed* with a mental health disorder?': 'Have you ever been diagnosed with a mental health disorder?', 'Have you ever been *diagnosed* with a mental health disorder?': 'Have you ever been diagnosed with a mental health disorder?', 'Have you observed or experienced a *supportive or well handled response* to a mental health issue in your current or previous workplace?': 'Have you observed or experienced a supportive or well handled response to a mental health issue in your current or previous workplace?', 'Have you observed or experienced an *unsupportive or badly handled response* to a mental health issue in your current or previous workplace?': 'Have you observed or experienced an *unsupportive or badly handled response to a mental health issue in your current or previous workplace?', 'Have you observed or experienced an *unsupportive or badly handled response* to a mental health issue in your current or previous workplace?': 'Have you observed or experienced an unsupportive or badly handled response to a mental health issue in your current or previous workplace?', 'If you have a mental health disorder, how often do you feel that it interferes with your work *when being treated effectively?*': 'If you have a mental health disorder, how often do you feel that it interferes with your work *when being treated effectively?', 'If you have a mental health disorder, how often do you feel that it interferes with your work *when* _*NOT*_* being treated effectively (i.e., when you are experiencing symptoms)?*': 'If you have a mental health disorder, how often do you feel that it interferes with your work when NOT being treated effectively (i.e., when you are experiencing symptoms)?', 'What US state or territory do you *live* in?': 'What US state or territory do you live in?', 'What US state or territory do you *work* in?': 'What US state or territory do you work in?', 'What country do you *live* in?': 'What country do you live in?', 'What country do you *work* in?': 'What country do you work in?', 'Would you be willing to talk to one of us more extensively about your experiences with mental health issues in the tech industry? (Note that all interview responses would be used _anonymously_ and only with your permission.)': 'Would you be willing to talk to one of us more extensively about your experiences with mental health issues in the tech industry? (Note that all interview responses would be used anonymously and only with your permission.)', 'Would you bring up your *mental* health with a potential employer in an interview?': 'Would you bring up your mental health with a potential employer in an interview?', '*What disorder(s) have you been diagnosed with?*': 'What disorder(s) have you been diagnosed with?', 'If you have a mental health disorder, how often do you feel that it interferes with your work *when being treated effectively?*': 'If you have a mental health disorder, how often do you feel that it interferes with your work when being treated effectively?'}\n",
        "\n",
        "df_2019.rename(columns=dirty_columns, inplace=True)"
      ]
    },
    {
      "cell_type": "code",
      "execution_count": 427,
      "metadata": {
        "id": "Zt-qBge0sTwE"
      },
      "outputs": [],
      "source": [
        "extra_labels = set(df_2019) - set(df_2017_2018)"
      ]
    },
    {
      "cell_type": "code",
      "execution_count": 428,
      "metadata": {
        "id": "uz8V_DJ8tE3j"
      },
      "outputs": [],
      "source": [
        "extra_labels_list = list(extra_labels)\n",
        "df_2019_clean = df_2019.drop(columns=extra_labels_list)"
      ]
    },
    {
      "cell_type": "code",
      "execution_count": 429,
      "metadata": {
        "colab": {
          "base_uri": "https://localhost:8080/"
        },
        "id": "NKZKbdLD1Izx",
        "outputId": "2e94e561-6518-4c51-f369-ce0a2bc93097"
      },
      "outputs": [
        {
          "output_type": "execute_result",
          "data": {
            "text/plain": [
              "set()"
            ]
          },
          "metadata": {},
          "execution_count": 429
        }
      ],
      "source": [
        "set(df_2019_clean) - set(df_2017_2018)"
      ]
    },
    {
      "cell_type": "code",
      "execution_count": 430,
      "metadata": {
        "colab": {
          "base_uri": "https://localhost:8080/"
        },
        "id": "Nxfu0PR211V_",
        "outputId": "134ab5f2-ace4-4bbe-e0b7-1481cf545578"
      },
      "outputs": [
        {
          "output_type": "execute_result",
          "data": {
            "text/plain": [
              "(1525, 124)"
            ]
          },
          "metadata": {},
          "execution_count": 430
        }
      ],
      "source": [
        "data_frames = [df_2017_2018, df_2019_clean]\n",
        "\n",
        "df_2017_2019 = pd.concat(data_frames)\n",
        "df_2017_2019.shape"
      ]
    },
    {
      "cell_type": "markdown",
      "source": [
        "Step 6: Clean 2020 raw results and concatenate with 2017-2019 results.\n",
        "\n",
        "(Extraneous open-ended questions that can be disregarded from surveys posterior to 2017-18 have been dropped from subsequent years, constraining dataset to 123 columns/questions at max.)"
      ],
      "metadata": {
        "id": "pwF1F8HD--8J"
      }
    },
    {
      "cell_type": "code",
      "execution_count": 431,
      "metadata": {
        "id": "yb559yto4itA"
      },
      "outputs": [],
      "source": [
        "df_2020.rename(columns=dirty_columns, inplace=True)"
      ]
    },
    {
      "cell_type": "code",
      "execution_count": 432,
      "metadata": {
        "id": "02ouY4M75zQT"
      },
      "outputs": [],
      "source": [
        "extra_labels = set(df_2020) - set(df_2017_2019)"
      ]
    },
    {
      "cell_type": "code",
      "execution_count": 433,
      "metadata": {
        "id": "0TZ29XeZ6DyY"
      },
      "outputs": [],
      "source": [
        "extra_labels_list = list(extra_labels)\n",
        "df_2020_clean = df_2020.drop(columns=extra_labels_list)"
      ]
    },
    {
      "cell_type": "code",
      "execution_count": 434,
      "metadata": {
        "colab": {
          "base_uri": "https://localhost:8080/"
        },
        "id": "8f9ZzzeH6Lix",
        "outputId": "8f1718d0-8240-4b1c-9237-673d12e32ce6"
      },
      "outputs": [
        {
          "output_type": "execute_result",
          "data": {
            "text/plain": [
              "set()"
            ]
          },
          "metadata": {},
          "execution_count": 434
        }
      ],
      "source": [
        "set(df_2020_clean) - set(df_2017_2019)"
      ]
    },
    {
      "cell_type": "code",
      "execution_count": 435,
      "metadata": {
        "colab": {
          "base_uri": "https://localhost:8080/"
        },
        "id": "kpJQAdxr6Tg8",
        "outputId": "1f935fa4-3d3d-4b7d-a339-fc1c1cdae619"
      },
      "outputs": [
        {
          "output_type": "execute_result",
          "data": {
            "text/plain": [
              "(1705, 124)"
            ]
          },
          "metadata": {},
          "execution_count": 435
        }
      ],
      "source": [
        "data_frames = [df_2017_2019, df_2020_clean]\n",
        "\n",
        "df_2017_2020 = pd.concat(data_frames)\n",
        "df_2017_2020.shape"
      ]
    },
    {
      "cell_type": "markdown",
      "source": [
        "Step 7: Clean 2021 raw results and concatenate with 2017-2020 results.\n",
        "\n",
        "(Extraneous open-ended questions that can be disregarded from surveys posterior to 2017-18 have been dropped from subsequent years, constraining dataset to 123 columns/questions at max.)"
      ],
      "metadata": {
        "id": "GAtvADWp_D5o"
      }
    },
    {
      "cell_type": "code",
      "execution_count": 436,
      "metadata": {
        "id": "DzXnFgxX6nMk"
      },
      "outputs": [],
      "source": [
        "df_2021.rename(columns=dirty_columns, inplace=True)"
      ]
    },
    {
      "cell_type": "code",
      "execution_count": 437,
      "metadata": {
        "id": "VSi3oReL7Axm"
      },
      "outputs": [],
      "source": [
        "extra_labels = set(df_2021) - set(df_2017_2020)"
      ]
    },
    {
      "cell_type": "code",
      "execution_count": 438,
      "metadata": {
        "id": "58wAqJa77SmP"
      },
      "outputs": [],
      "source": [
        "extra_labels_list = list(extra_labels)\n",
        "df_2021_clean = df_2021.drop(columns=extra_labels_list)"
      ]
    },
    {
      "cell_type": "code",
      "execution_count": 439,
      "metadata": {
        "colab": {
          "base_uri": "https://localhost:8080/"
        },
        "id": "AQ0-HZ_p7Wq6",
        "outputId": "b750bc40-d38a-4255-b0f1-9a0ece908331"
      },
      "outputs": [
        {
          "output_type": "execute_result",
          "data": {
            "text/plain": [
              "set()"
            ]
          },
          "metadata": {},
          "execution_count": 439
        }
      ],
      "source": [
        "set(df_2021_clean) - set(df_2017_2020)"
      ]
    },
    {
      "cell_type": "code",
      "execution_count": 440,
      "metadata": {
        "colab": {
          "base_uri": "https://localhost:8080/"
        },
        "id": "84CMGIqc7aSI",
        "outputId": "8bdb7b47-c32d-46ae-ce15-6981882b3350"
      },
      "outputs": [
        {
          "output_type": "execute_result",
          "data": {
            "text/plain": [
              "(1836, 124)"
            ]
          },
          "metadata": {},
          "execution_count": 440
        }
      ],
      "source": [
        "data_frames = [df_2017_2020, df_2021_clean]\n",
        "\n",
        "df_2017_2021 = pd.concat(data_frames)\n",
        "df_2017_2021.shape"
      ]
    },
    {
      "cell_type": "markdown",
      "source": [
        "Step 8: Clean 2022 raw results and concatenate with 2017-2021 results.\n",
        "\n",
        "(Extraneous open-ended questions that can be disregarded from surveys posterior to 2017-18 have been dropped from subsequent years, constraining dataset to 123 columns/questions at max.)"
      ],
      "metadata": {
        "id": "z3kpLGb9_Uxn"
      }
    },
    {
      "cell_type": "code",
      "execution_count": 441,
      "metadata": {
        "id": "9Lhhnxva7jt0"
      },
      "outputs": [],
      "source": [
        "df_2022.rename(columns=dirty_columns, inplace=True)"
      ]
    },
    {
      "cell_type": "code",
      "execution_count": 442,
      "metadata": {
        "id": "ousGQyar7oJK"
      },
      "outputs": [],
      "source": [
        "extra_labels = set(df_2022) - set(df_2017_2021)"
      ]
    },
    {
      "cell_type": "code",
      "execution_count": 443,
      "metadata": {
        "id": "oTuld_MI7zAz"
      },
      "outputs": [],
      "source": [
        "extra_labels_list = list(extra_labels)\n",
        "df_2022_clean = df_2022.drop(columns=extra_labels_list)"
      ]
    },
    {
      "cell_type": "code",
      "execution_count": 444,
      "metadata": {
        "colab": {
          "base_uri": "https://localhost:8080/"
        },
        "id": "8ReUtBUr74_y",
        "outputId": "21565bc6-1936-44fd-b2e6-3619ee5100c3"
      },
      "outputs": [
        {
          "output_type": "execute_result",
          "data": {
            "text/plain": [
              "set()"
            ]
          },
          "metadata": {},
          "execution_count": 444
        }
      ],
      "source": [
        "set(df_2021_clean) - set(df_2017_2020)"
      ]
    },
    {
      "cell_type": "code",
      "execution_count": 445,
      "metadata": {
        "colab": {
          "base_uri": "https://localhost:8080/"
        },
        "id": "ovQ_Olr976qn",
        "outputId": "fe7f170f-6c27-4e9d-e605-44f097ad112a"
      },
      "outputs": [
        {
          "output_type": "execute_result",
          "data": {
            "text/plain": [
              "(2000, 124)"
            ]
          },
          "metadata": {},
          "execution_count": 445
        }
      ],
      "source": [
        "data_frames = [df_2017_2021, df_2022_clean]\n",
        "\n",
        "df_2017_2022 = pd.concat(data_frames)\n",
        "df_2017_2022.shape"
      ]
    },
    {
      "cell_type": "markdown",
      "source": [
        "Step 9: Clean 2023 raw results and concatenate with 2017-2022 results.\n",
        "\n",
        "(Extraneous open-ended questions that can be disregarded from surveys posterior to 2017-18 have been dropped from subsequent years, constraining dataset to 123 columns/questions at max.)"
      ],
      "metadata": {
        "id": "gi4SwFmo_lmp"
      }
    },
    {
      "cell_type": "code",
      "execution_count": 446,
      "metadata": {
        "id": "x0g1zHog8C7g"
      },
      "outputs": [],
      "source": [
        "df_2023.rename(columns=dirty_columns, inplace=True)"
      ]
    },
    {
      "cell_type": "code",
      "execution_count": 447,
      "metadata": {
        "id": "atpR-nrn8FfV"
      },
      "outputs": [],
      "source": [
        "extra_labels = set(df_2023) - set(df_2017_2022)"
      ]
    },
    {
      "cell_type": "code",
      "execution_count": 448,
      "metadata": {
        "id": "KxJPnTZk8QyS"
      },
      "outputs": [],
      "source": [
        "extra_labels_list = list(extra_labels)\n",
        "df_2023_clean = df_2023.drop(columns=extra_labels_list)"
      ]
    },
    {
      "cell_type": "code",
      "execution_count": 449,
      "metadata": {
        "colab": {
          "base_uri": "https://localhost:8080/"
        },
        "id": "83YyPRfu8WBJ",
        "outputId": "e1d3841c-415e-43e0-d137-4f9a146f01ed"
      },
      "outputs": [
        {
          "output_type": "execute_result",
          "data": {
            "text/plain": [
              "set()"
            ]
          },
          "metadata": {},
          "execution_count": 449
        }
      ],
      "source": [
        "set(df_2023_clean) - set(df_2017_2022)"
      ]
    },
    {
      "cell_type": "code",
      "execution_count": 450,
      "metadata": {
        "colab": {
          "base_uri": "https://localhost:8080/"
        },
        "id": "pvYY3ShU8Xte",
        "outputId": "8bdb0993-ddb3-4382-edbf-822d7b3f00a9"
      },
      "outputs": [
        {
          "output_type": "execute_result",
          "data": {
            "text/plain": [
              "(2006, 124)"
            ]
          },
          "metadata": {},
          "execution_count": 450
        }
      ],
      "source": [
        "data_frames = [df_2017_2022, df_2023_clean]\n",
        "\n",
        "df_2017_2023 = pd.concat(data_frames)\n",
        "df_2017_2023.shape"
      ]
    },
    {
      "cell_type": "markdown",
      "source": [
        "Findings: There are now 2006 responses left from 123 total questions, however some are open ended questions which are not interesting for a quantitative analysis of the dataset an will be dropped.\n",
        "\n",
        "Step 10: Drop columns containing open/ended survey questions and/or responses."
      ],
      "metadata": {
        "id": "eCuUkhQ-BHQB"
      }
    },
    {
      "cell_type": "code",
      "source": [
        "open_ended = ['Describe the conversation you had with your employer about your mental health, including their reactions and what actions were taken to address your mental health issue/questions.', 'Describe the conversation with coworkers you had about your mental health including their reactions.', 'Describe the conversation your coworker had with you about their mental health (please do not use names).', 'Describe the conversation you had with your previous employer about your mental health, including their reactions and actions taken to address your mental health issue/questions.', 'Describe the conversation you had with your previous coworkers about your mental health including their reactions.', 'Describe the conversation your coworker had with you about their mental health (please do not use names)..1', 'Why or why not?', 'Why or why not?.1', 'Describe the circumstances of the badly handled or unsupportive response.', 'Describe the circumstances of the supportive or well handled response.', 'Briefly describe what you think the industry as a whole and/or employers could do to improve mental health support for employees.', 'If there is anything else you would like to tell us that has not been covered by the survey questions, please use this space to do so.', 'Would you be willing to talk to one of us more extensively about your experiences with mental health issues in the tech industry? (Note that all interview responses would be used anonymously and only with your permission.)']\n",
        "df_2017_2023.drop(columns=open_ended, inplace=True)\n",
        "\n",
        "df_2017_2023.shape"
      ],
      "metadata": {
        "id": "oTAERFFdCVEj",
        "colab": {
          "base_uri": "https://localhost:8080/"
        },
        "outputId": "e3f6966f-7f6c-436e-b3dd-ccdca4f3861d"
      },
      "execution_count": 451,
      "outputs": [
        {
          "output_type": "execute_result",
          "data": {
            "text/plain": [
              "(2006, 111)"
            ]
          },
          "metadata": {},
          "execution_count": 451
        }
      ]
    }
  ],
  "metadata": {
    "colab": {
      "provenance": [],
      "mount_file_id": "1Qqk-Bs_HrBG-wuUrkXbhdcccScI_8_fR",
      "authorship_tag": "ABX9TyO3e8uGJ2h7XuyQJjw9RkGF",
      "include_colab_link": true
    },
    "kernelspec": {
      "display_name": "Python 3",
      "name": "python3"
    },
    "language_info": {
      "name": "python"
    }
  },
  "nbformat": 4,
  "nbformat_minor": 0
}